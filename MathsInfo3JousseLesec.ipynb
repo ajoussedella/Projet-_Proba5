{
 "cells": [
  {
   "cell_type": "markdown",
   "metadata": {},
   "source": [
    "# Projet numérique n°3 : longueur d'un câble sous-marin\n",
    "## Allyriane Jousse Della Giustina & Elie Lesec\n",
    "\n",
    "### Enoncé du problème\n",
    "\n",
    "L'objectif de ce projet est d'estimer la longueur de câble sous-marin nécessaire pour relier deux côtes $A$ et $B$  en utilisant des simulations conditionnelles.\n",
    "\n",
    "\n",
    "Le câble reposera sur le fond marin dont la profondeur est inconnue.\n",
    "Le segment $[AB]$ est discrétisé par une séquence de (N+1) points. On pose $x_0=A$ et pour $i=1,\\dots,N$, $$x_i=x_0+i\\Delta$$ où $$\\Delta = \\frac{AB}{N}$$ de telle sorte que $x_N=B$.\n",
    "On note $z(x)$ la profondeur du fond marin au point $x$ de telle sorte \n",
    "qu'on pourra estimer la longueur totale de câble nécessaire par la somme \n",
    "des longueurs sur les segments de la discrétisation :\n",
    "\n",
    "$$l=\\sum_{i=1}^N\\sqrt{\\Delta^2+(z(x_i)-z(x_{i-1}))^2}.$$\n",
    "\n",
    "Enfin, notons que l'on dispose d'un ensemble de $n$ observations de la \n",
    "profondeur que l'on supposera situées sur des points de discrétisation $z(x_{j_1}),\\dots,z(x_{j_n})$.\n",
    "\n",
    "\n",
    "On adopte un modèle probabiliste pour la profondeur. On suppose que le vecteur des \n",
    "profondeurs sur les points de discrétisation \n",
    "$\\mathbf{z}=(z(x_0),\\dots,z(x_N))$ est la réalisation\n",
    "d'un vecteur aléatoire gaussien $\\mathbf{Z}=(Z(x_0),\\dots,Z(x_N))$ \n",
    "dont le vecteur d'espérance ne contient qu'une seule valeur $\\mu$ \n",
    "répétée $N+1$ fois et dont la matrice de covariance $\\Sigma$ a pour termes $\\sigma_{ij}$\n",
    "définis par $\\sigma_{ij}=C(|x_i-x_j|)$ où $C$ est une\n",
    "fonction décroissante, traduisant le fait que deux points \n",
    "géographiquement proches ont tendance à avoir des profondeurs plus similaires que deux points éloignés.\n",
    "\n",
    "On supposera que la matrice de covariance ainsi \n",
    "générée est définie-positive (en fait, $C$ sera choisie parmi les fonctions qui, \n",
    "appliquées aux termes d'une matrice de distance, produisent des matrices définie-positives). \n",
    "\n",
    "Si on note $L$ la variable aléatoire donnant la longueur de cable nécessaire : \n",
    "$$L=\\sum_{i=1}^N\\sqrt{\\Delta^2+(Z(x_i)-Z(x_{i-1}))^2},$$\n",
    "un bon estimateur de $L$ est fourni par l'espérance conditionnelle \n",
    "\n",
    "$$L^\\star=E[L|Z(x_{j_1})=z(x_{j_1}),\\dots,Z(x_{j_n})=z(x_{j_n})].$$\n",
    "                                                                              \n",
    "Cependant, cette quantité est difficilement accessible par le calcul. \n",
    "On va donc avoir recours à des\n",
    "simulations conditionnelles. C'est-à-dire que l'on va simuler \n",
    "un nombre $K$ de réalités (disons des réalisations du modèle \n",
    "probabiliste choisi), et sur chacune d'entre elle, \n",
    "la quantité de câble nécessaire sera évaluée. \n",
    "On disposera ainsi d'un échantillon $l_{(1)},\\dots,l_{(K)}$ de \n",
    "longueures simulées. Puis on approchera l'espérance conditionnelle  par \n",
    "$$L^\\star=\\frac{1}{K}\\sum_{k=1}^K l_{(k)}.$$\n",
    "\n",
    "L'objectif de ce projet est donc d'écrire un code permettant \n",
    "d'effectuer cette simulation conditionnelle, puis de l'appliquer \n",
    "au jeu de données fourni et d'en déduire une estimation de la longueur de câble nécessaire."
   ]
  },
  {
   "cell_type": "markdown",
   "metadata": {},
   "source": [
    "# Questions théoriques\n",
    "\n",
    "1. Quel théorème du cours nous autorise-t-il à estimer l'espérance conditionnelle par la moyenne empirique de simulations conditionnelles ?\n",
    "\n",
    "2. Rappeler la loi conditionnelle du vecteur des composantes de $\\mathbf{Z}$ correspondant aux points de discrétisation\n",
    "sans observation, connaissant les valeurs prises par les composantes aux sites d'observation.\n",
    "\n",
    "3. Si $\\mathbf{Y}=(Y_1,\\dots,Y_p)$ est un vecteur de composantes gaussiennes indépendantes, toutes d'espérance nulle et de variance 1, \n",
    "quelle est la loi du vecteur $\\mathbf{Z}=m+R\\mathbf{Y}$ où $R$ est une matrice $p\\times p$ inversible et $m$ est un vecteur de taille $p$ ?\n",
    "\n",
    "4. En déduire un algorithme de simulation conditionnelle."
   ]
  },
  {
   "cell_type": "markdown",
   "metadata": {},
   "source": [
    "1. La loi faible des grands nombres stipule que la moyenne empirique constitue un estimateur convergent de l'espérance. Ainsi il est légitime d'estimer l'espérance conditionnelle par la moyenne empire des simulations conditionnelles.\n",
    "\n",
    "2. On suppose que les $n$ observations de profondeurs $ y = (z(j_{1})...z(j_{n}))$ sont telles que $ \\left\\{ j_{1}...j_{n} \\right\\} \\subset \\left\\{ x_{1}...x_{n} \\right\\}$.\n",
    "\n",
    "Considérons un réordonnement du vecteur Z correspondant à une séparation de ses composantes pour distinguer les points de discrétisation où une observation a été effectuée et ceux où aucune observation n'a été effectuée. \n",
    "\n",
    "Pour simplifier les notations, considérons les ensembles suivants : \n",
    "\n",
    "$$ I = \\{ j_{1}...j_{n}\\}, \\ J = [\\![0,N]\\!] \\ \\backslash  \\ I $$\n",
    "\n",
    "Ainsi on a $Y$ le vecteur des composantes de $Z$ qui correpondent aux points de discrétisation où des observations on été effectuées : $ Y = (Z(x_{i}))_{i \\in I} $ et $X$ le vecteur des composantes de $Z$ qui correspondent à des points de discrétisation de profondeur inconnue $ X = (Z(x_{i}))_{i \\in J} $\n",
    "\n",
    "Nous allons reprendre la démonstration proposée dans le chapitre $ Probabilités \\ IV$, en considérant les matrices de covariance suivantes :\n",
    "\n",
    "$$ C_{Y} = (\\sigma_{i,j})_{(i,j) \\in I^{2}}, \\ C_{X} = (\\sigma_{i,j})_{(i,j) \\in J^{2}},\\ C_{X,Y} = (\\sigma_{i,j})_{(i,j) \\in J x I},\\ C_{Y,X} = (\\sigma_{i,j})_{(i,j) \\in I x J}$$\n",
    "\n",
    "Ainsi que les vecteurs d'espérance suivants :\n",
    "\n",
    "$$ m_{X} = (\\mu)_{i \\in [\\![0,N+1-n]\\!]}, \\ m_{Y} = (\\mu)_{i \\in [\\![1,n]\\!]}$$\n",
    "\n",
    "On obtient que la variable aléatoire $X|Y=y$ est une gaussienne et que : \n",
    "\n",
    "$$ \\mathbb{E}(X|Y=y) = m_{X} + C_{X,Y}C_{X}^{-1}(y-m_{Y})$$ \\\n",
    "$$C_{X|Y=y}=C_{X}-C_{X,Y}C_{Y}^{-1}C_{Y,X}$$\n",
    "\n",
    "3. Soient $\\mathbf{Y}=(Y_1,\\dots,Y_p)$ un vecteur de composantes gaussiennes indépendantes, toutes d'espérance nulle, $R \\in GL_{n}(\\mathbb{R})$ et $\\mathbf{Z}=m+R\\mathbf{Y}$.\n",
    "\n",
    "$Z$ est encore un vecteur gaussien : en effet toute combinaison linéaire à coefficients réels de composantes de $Z$ est une combinaison linéaire à coefficients réels de composantes de $Y$, qui est lui même gaussien.\n",
    "\n",
    "De plus $$ \\mathbb{E}(Z) = m + R\\mathbb{E}(Y) = m $$\n",
    "\n",
    "Et $$ \\mathbb{V}(Z) = \\mathbb{V}(RY) = \\mathbb{E}((RY)^{2}) - \\mathbb{E}(RY)^{2} = \\mathbb{E}((RY)^{2}) = RI_{d}tR^{T} = RR^{T} $$\n",
    "\n",
    "4. Ces questions nous donnent une méthode de simulation conditionnelle.\n",
    "\n",
    "Tout d'abord on commence par simuler un vecteur $ G = (G_{1},..., G_{N-n}) $ dont les coordonnées sont des  gaussiennes centrées réduites.\n",
    "\n",
    "Puis on considère $C_{X|Y=y}$, qui est définie positive. Ainsi on peut algorithmiquement obtenir sa factorisation de Cholesky : $C_{X|Y=y} = RR^{T}$.\n",
    "\n",
    "On considère alors $ \\mathbb{E}(X|Y=y) + RW$ qui correspond ainsi à une simulation conditionnelle."
   ]
  },
  {
   "cell_type": "markdown",
   "metadata": {},
   "source": [
    "# Données du problème\n",
    "Conventionnellement, $A$ est l'origine, $B=500$, $N=100$.\n",
    "\n",
    "Les données $$\\begin{array}{c|r}i & z(x_i)\\\\\n",
    "\\hline\n",
    "0 & 0\\\\\n",
    "20 & -4\\\\\n",
    "40 & -12.8\\\\\n",
    "60 & -1\\\\\n",
    "80 & -6.5\\\\\n",
    "100 & 0\\end{array}$$\n",
    "\n",
    "L'espérance de chaque composante du vecteur aléatoire $\\mathbf{Z}$ est donnée par $\\mu=-5.$\n",
    "\n",
    "La fonction $C$ est définie par $$C(h)=\\sigma^2 e^{-|h|/a},$$\n",
    "\n",
    "où $|h|$ correspond à la distance entre deux points, $a=50$ et $\\sigma^2=12$.\n"
   ]
  },
  {
   "cell_type": "markdown",
   "metadata": {},
   "source": [
    "# Implémentation"
   ]
  },
  {
   "cell_type": "markdown",
   "metadata": {},
   "source": [
    "## Préambule"
   ]
  },
  {
   "cell_type": "code",
   "execution_count": 107,
   "metadata": {},
   "outputs": [],
   "source": [
    "#Chargement de dépendances\n",
    "\n",
    "import numpy as np\n",
    "import matplotlib.pyplot as plt\n",
    "from scipy import stats\n",
    "\n",
    "#Discrétisation\n",
    "A=0\n",
    "B=500\n",
    "N=101 #Nombre de points de discrétisation\n",
    "Delta = (B-A)/(N-1)\n",
    "discretization_indexes = np.arange(N)\n",
    "discretization = discretization_indexes*Delta\n",
    "#Paramètres du modèle\n",
    "\n",
    "mu=-5\n",
    "a = 50\n",
    "sigma2 = 12\n",
    "\n",
    "#Données\n",
    "\n",
    "observation_indexes = [0,20,40,60,80,100]\n",
    "depth = np.array([0,-4,-12.8,-1,-6.5,0])\n",
    "\n",
    "#Indices des composantes correspondant aux observations et aux componsantes non observées\n",
    "\n",
    "unknown_indexes=list(set(discretization_indexes)-set(observation_indexes))\n"
   ]
  },
  {
   "cell_type": "markdown",
   "metadata": {},
   "source": [
    "## Questions\n",
    "\n",
    "1. Ecrire une fonction qui prend en argument la distance entre les points, le paramètre $a$, et le paramètre $\\sigma^2$, et qui retourne la covariance entre deux points.\n",
    "On pourra fournir une matrice de distance à cette fonction. Dans ce cas, la fonction renverra la matrice de covariance."
   ]
  },
  {
   "cell_type": "markdown",
   "metadata": {},
   "source": [
    "2. Calculer la matrice de distance."
   ]
  },
  {
   "cell_type": "markdown",
   "metadata": {},
   "source": [
    "3. Calculer la matrice de covariance du vecteur $\\mathbf{Z}=(Z(x_0),\\dots,Z(x_N))$."
   ]
  },
  {
   "cell_type": "markdown",
   "metadata": {},
   "source": [
    "4. Extraire les 3 matrices de covariance suivantes :\n",
    "\n",
    " * entre les observations\n",
    "\n",
    " * entre les observations et les inconnues\n",
    "\n",
    " * entre les inconnues\n"
   ]
  },
  {
   "cell_type": "markdown",
   "metadata": {},
   "source": [
    "5. Calculer l'espérance conditionnelle des composantes non observées connaissant les observations et la représenter avec les données."
   ]
  },
  {
   "cell_type": "markdown",
   "metadata": {},
   "source": [
    "6. Calculer la matrice de covariance conditionnelle et tracer sa diagonale (variance conditionnelle) en fonction de la position. Commenter."
   ]
  },
  {
   "cell_type": "markdown",
   "metadata": {},
   "source": [
    "7. Effectuer une simulation conditionnelle. Sur un même graphique, tracer la simulation ainsi que les données et l'espérance conditionnelle. Commenter."
   ]
  },
  {
   "cell_type": "markdown",
   "metadata": {},
   "source": [
    "8. Ecrire une fonction qui calcule la longueur du câble en fonction du vecteur des profondeurs et du pas de discrétisation."
   ]
  },
  {
   "cell_type": "markdown",
   "metadata": {},
   "source": [
    "9. Utiliser cette fonction pour calculer la longueur du câble à partir de 100 simulations. Comparer l'espérance conditionnelle (estimée) de la longueur avec la longueur de l'espérance conditionnelle."
   ]
  },
  {
   "cell_type": "markdown",
   "metadata": {},
   "source": [
    "10. Représenter la suite $M_n$ des moyennes des longueurs de câbles en fonction du nombre de simulations. Commenter."
   ]
  },
  {
   "cell_type": "markdown",
   "metadata": {},
   "source": [
    "11. Représenter l'histogramme des longueurs de câbles générées."
   ]
  },
  {
   "cell_type": "markdown",
   "metadata": {},
   "source": [
    "12. Donner un intervalle de confiance à 95% de la longueur du câble par 2 méthodes différentes. Commenter."
   ]
  },
  {
   "cell_type": "markdown",
   "metadata": {},
   "source": [
    "13. Donner une estimation de la probabilité que la longueur du câble dépasse 525 m."
   ]
  },
  {
   "cell_type": "markdown",
   "metadata": {},
   "source": [
    "14. Reprendre les questions précédentes avec 1000, 10000 puis 100000 simulations. Commenter."
   ]
  },
  {
   "cell_type": "code",
   "execution_count": 4,
   "metadata": {},
   "outputs": [],
   "source": [
    "# Question 1 : \n",
    "\n",
    "def C(h, a, sigmasquare):\n",
    "    return sigmasquare * np.exp(-np.abs(h)/a)\n",
    "\n",
    "def Covariance(dis, a, sigmasquare):\n",
    "    return C(np.abs(dis),a, sigmasquare)"
   ]
  },
  {
   "cell_type": "code",
   "execution_count": 5,
   "metadata": {},
   "outputs": [],
   "source": [
    "# Question 2 :\n",
    "\n",
    "Mat_dis = np.zeros((N,N))\n",
    "\n",
    "for i in range(N):\n",
    "    for j in range(N):\n",
    "        Mat_dis[i,j] = np.abs(discretization[i] - discretization[j])\n",
    "        \n",
    "# on aurait pû un peu plus optimiser en remarquant la symétrie de la matrice des distances"
   ]
  },
  {
   "cell_type": "code",
   "execution_count": 6,
   "metadata": {},
   "outputs": [],
   "source": [
    "# Question 3 :\n",
    "\n",
    "Mat_cov = np.zeros((N,N))\n",
    "\n",
    "for i in range(N):\n",
    "    for j in range(N):\n",
    "        Mat_cov[i,j] = Covariance((discretization[i] - discretization[j]), a, sigma2)"
   ]
  },
  {
   "cell_type": "code",
   "execution_count": 7,
   "metadata": {},
   "outputs": [],
   "source": [
    "# Question 4 :\n",
    "\n",
    "cov_obs_obs = np.array([[Mat_cov[i, j] for i in observation_indexes] for j in observation_indexes])\n",
    "\n",
    "cov_obs_inconnu = np.array([[Mat_cov[i, j] for i in observation_indexes] for j in unknown_indexes])\n",
    "\n",
    "cov_inconnu_inconnu = np.array([[Mat_cov[i, j] for i in unknown_indexes] for j in unknown_indexes])"
   ]
  },
  {
   "cell_type": "code",
   "execution_count": 8,
   "metadata": {},
   "outputs": [
    {
     "ename": "NameError",
     "evalue": "name 'E_YX' is not defined",
     "output_type": "error",
     "traceback": [
      "\u001b[1;31m---------------------------------------------------------------------------\u001b[0m",
      "\u001b[1;31mNameError\u001b[0m                                 Traceback (most recent call last)",
      "\u001b[1;32m<ipython-input-8-e3bac4f7c598>\u001b[0m in \u001b[0;36m<module>\u001b[1;34m\u001b[0m\n\u001b[0;32m     12\u001b[0m \u001b[1;31m# On représente à la fois l'espérance conditionnelle ainsi calculées ainsi que les données de profondeur connues\u001b[0m\u001b[1;33m\u001b[0m\u001b[1;33m\u001b[0m\u001b[1;33m\u001b[0m\u001b[0m\n\u001b[0;32m     13\u001b[0m \u001b[1;33m\u001b[0m\u001b[0m\n\u001b[1;32m---> 14\u001b[1;33m \u001b[0mplt\u001b[0m\u001b[1;33m.\u001b[0m\u001b[0mscatter\u001b[0m\u001b[1;33m(\u001b[0m\u001b[0munknown_indexes\u001b[0m\u001b[1;33m,\u001b[0m \u001b[0mE_YX\u001b[0m\u001b[1;33m,\u001b[0m \u001b[0mcolor\u001b[0m \u001b[1;33m=\u001b[0m \u001b[1;34m'black'\u001b[0m\u001b[1;33m)\u001b[0m\u001b[1;33m\u001b[0m\u001b[1;33m\u001b[0m\u001b[0m\n\u001b[0m\u001b[0;32m     15\u001b[0m \u001b[0mplt\u001b[0m\u001b[1;33m.\u001b[0m\u001b[0mscatter\u001b[0m\u001b[1;33m(\u001b[0m\u001b[0mobservation_indexes\u001b[0m\u001b[1;33m,\u001b[0m \u001b[0mdepth\u001b[0m\u001b[1;33m,\u001b[0m \u001b[0mcolor\u001b[0m \u001b[1;33m=\u001b[0m \u001b[1;34m'magenta'\u001b[0m\u001b[1;33m)\u001b[0m\u001b[1;33m\u001b[0m\u001b[1;33m\u001b[0m\u001b[0m\n\u001b[0;32m     16\u001b[0m \u001b[0mplt\u001b[0m\u001b[1;33m.\u001b[0m\u001b[0mshow\u001b[0m\u001b[1;33m(\u001b[0m\u001b[1;33m)\u001b[0m\u001b[1;33m\u001b[0m\u001b[1;33m\u001b[0m\u001b[0m\n",
      "\u001b[1;31mNameError\u001b[0m: name 'E_YX' is not defined"
     ]
    }
   ],
   "source": [
    "# Question 5 : \n",
    "\n",
    "# Ici on utilise simplement l'expression de l'espérance conditionnelle calculée en question 2 \n",
    "mu_y = np.array([mu for i in observation_indexes])\n",
    "mu_x = np.array([mu for i in unknown_indexes])\n",
    "\n",
    "def Esp(Y):\n",
    "    return mu_x + (cov_obs_inconnu.dot(np.linalg.inv(cov_obs_obs))).dot(Y - mu_y)\n",
    "\n",
    "E_conditionnelle = Esp(depth)\n",
    "\n",
    "# On représente à la fois l'espérance conditionnelle ainsi calculées ainsi que les données de profondeur connues \n",
    "\n",
    "plt.scatter(unknown_indexes, E_YX, color = 'black')\n",
    "plt.scatter(observation_indexes, depth, color = 'magenta')\n",
    "plt.show()"
   ]
  },
  {
   "cell_type": "code",
   "execution_count": 9,
   "metadata": {},
   "outputs": [
    {
     "data": {
      "image/png": "[encoded data removed]",
      "text/plain": [
       "<Figure size 432x288 with 1 Axes>"
      ]
     },
     "metadata": {
      "needs_background": "light"
     },
     "output_type": "display_data"
    }
   ],
   "source": [
    "# Question 6 : \n",
    "\n",
    "# Tout d'abord pour calculer la matrice de covariance conditionnelle, on la calcule en utilisant son expression obtenue\n",
    "#en question 2 :\n",
    "\n",
    "Mat_cov_cond = cov_inconnu_inconnu - (cov_obs_inconnu.dot(np.linalg.inv(cov_obs_obs))).dot(np.transpose(cov_obs_inconnu))\n",
    "\n",
    "# Ensuite on trace sa diagonale en fonction de la position : \n",
    "\n",
    "diag = np.array([Mat_cov_cond[i,i] for i in range (len(Mat_cov_cond))])\n",
    "plt.plot(np.array(unknown_indexes) * Delta, diag, \"+\", color = 'red')\n",
    "plt.show()"
   ]
  },
  {
   "cell_type": "markdown",
   "metadata": {},
   "source": [
    "La diagonale de la matrice de covariance correspond aux variances des différentes variables aléatoires.\n",
    "\n",
    "Plus on est loin d'un point dont la profondeur est connue plus la variance augmente : en effet en s'éloignant on accumule les possibilités de variations de profondeur potentielles. La variance est maximale lorsqu'on se situe exactement au milieu de 2 points de profondeurs connues, c'est à dire au point le plus éloigné possible d'un point dont on connaît la profondeur.\n",
    "\n",
    "On remarque la cohérence d'avoir choisi C comme fonction qui est croissante en la distance entre deux points."
   ]
  },
  {
   "cell_type": "code",
   "execution_count": 10,
   "metadata": {},
   "outputs": [],
   "source": [
    "# Question 7 : \n",
    "\n",
    "# Tout d'abord nous simulons N - n variables suivant une loi centrée réduite, à l'aide de la méthode de Box-Muller\n",
    "\n",
    "def Box_Muller():\n",
    "    U = np.random.uniform()\n",
    "    V = np.random.uniform()\n",
    "    return np.sqrt(-2*np.log(U))*np.cos(2*np.pi*V)\n",
    "\n",
    "def Vect_G () : \n",
    "    G = np.zeros(len(unknown_indexes))\n",
    "    for i in range(len(G)):\n",
    "        G[i] = Box_Muller()\n",
    "    return G"
   ]
  },
  {
   "cell_type": "code",
   "execution_count": 11,
   "metadata": {},
   "outputs": [],
   "source": [
    "# Ensuite on effectue la factorisation de Cholesky de la matrice de covariance conditionnelle :\n",
    "\n",
    "R = np.linalg.cholesky(Mat_cov_cond)"
   ]
  },
  {
   "cell_type": "code",
   "execution_count": 12,
   "metadata": {},
   "outputs": [],
   "source": [
    "# On calcule Y = m + RW\n",
    "# Ensuite on crée le vecteur des profondeurs complet, comportant à la fois les profondeurs connues et simulées, \n",
    "# qu'on rajoute au vecteur final séparément : \n",
    "\n",
    "def simuler():\n",
    "    simul_cond = E_conditionnelle + R.dot(Vect_G())\n",
    "    simul_finale = np.zeros(N)\n",
    "    c1, c2 = 0, 0\n",
    "    for i in range(N):\n",
    "        if i in observation_indexes:\n",
    "            simul_finale[i] = depth[c1]\n",
    "            c1+=1\n",
    "        else : \n",
    "            simul_finale[i] = simul_cond[c2]\n",
    "            c2+=1\n",
    "    return simul_finale"
   ]
  },
  {
   "cell_type": "code",
   "execution_count": 13,
   "metadata": {},
   "outputs": [
    {
     "data": {
      "text/plain": [
       "<matplotlib.legend.Legend at 0x199ae3bd1c8>"
      ]
     },
     "execution_count": 13,
     "metadata": {},
     "output_type": "execute_result"
    },
    {
     "data": {
      "image/png": "[encoded data removed]",
      "text/plain": [
       "<Figure size 432x288 with 1 Axes>"
      ]
     },
     "metadata": {
      "needs_background": "light"
     },
     "output_type": "display_data"
    }
   ],
   "source": [
    "# Et on affiche le tout : \n",
    "\n",
    "plt.plot([k * Delta for k in unknown_indexes], E_conditionnelle, color = 'black', label = 'espérance conditionnelle')\n",
    "plt.scatter([k * Delta for k in observation_indexes], depth, color = 'magenta', label = 'profondeurs connues')\n",
    "plt.plot(discretization, simuler(), label ='simulation conditionnelle')\n",
    "plt.legend()"
   ]
  },
  {
   "cell_type": "code",
   "execution_count": 43,
   "metadata": {},
   "outputs": [],
   "source": [
    "# Question 8 : \n",
    "\n",
    "def long_cable(profondeurs, delta):\n",
    "    l = 0 \n",
    "    for k in range(len(profondeurs) - 1):\n",
    "        l+= np.sqrt(delta**2 + (profondeurs[k+1] - profondeurs[k])**2)\n",
    "    return l\n",
    "\n"
   ]
  },
  {
   "cell_type": "code",
   "execution_count": 42,
   "metadata": {},
   "outputs": [],
   "source": [
    "# Question 9 :\n",
    "\n",
    "# On met de côté cette fonction qui sera utile :\n",
    "def nsimuls(n):\n",
    "    L= []\n",
    "    for k in range(n):\n",
    "        unesimul = simuler()\n",
    "        L.append(long_cable(unesimul,Delta))\n",
    "    return L\n",
    "\n",
    "# Tout d'abord on implémente une fonction qui renvoie la longueur moyenne de câble pour n simulations :\n",
    "\n",
    "def long_cable_simul(n):\n",
    "    c = 0 \n",
    "    for k in range(n):\n",
    "        unesimul = simuler()\n",
    "        c += long_cable(unesimul, Delta)\n",
    "    return c/n\n",
    "\n",
    "# Comme on l'avait fait précédemment dans la fonction \"simuler\", on crée un vecteur des profondeurs qui regroupe à la fois\n",
    "# les profondeurs connues et celles simulées par l'espérance conditionnelle\n",
    "\n",
    "def profondeurs_conditionnelles():\n",
    "    vect_prof = np.zeros(N)       \n",
    "    c1, c2 = 0, 0\n",
    "    for i in range(N):\n",
    "        if i in observation_indexes:\n",
    "            vect_prof[i] = depth[c1]\n",
    "            c1+=1\n",
    "        else:\n",
    "            vect_prof[i] = E_conditionnelle[c2]\n",
    "            c2+=1\n",
    "    return vect_prof\n",
    "\n",
    "L1 = long_cable_simul(100)\n",
    "L2 = long_cable(profondeurs_conditionnelles(), Delta)"
   ]
  },
  {
   "cell_type": "code",
   "execution_count": 16,
   "metadata": {},
   "outputs": [
    {
     "name": "stdout",
     "output_type": "stream",
     "text": [
      "L'espérance conditionnelle estimée de la longueur est égale à 522.3393449110405 mètres.\n",
      "La longueur de l'espérance conditionnelle estimée est égale à 501.6468416918411 mètres.\n"
     ]
    }
   ],
   "source": [
    "print(f\"L'espérance conditionnelle estimée de la longueur est égale à {L1} mètres.\")\n",
    "print(f\"La longueur de l'espérance conditionnelle estimée est égale à {L2} mètres.\")"
   ]
  },
  {
   "cell_type": "markdown",
   "metadata": {},
   "source": [
    "On remarque que l'espérance conditionnelle estimée de la longueur est supérieure à la longueur de l'espérance conditionnelle estimée : en effet l'espérance conditionnelle estimée lisse les aspérités des fonds marins, minimisant ainsi la longueur de câble à installer."
   ]
  },
  {
   "cell_type": "code",
   "execution_count": 33,
   "metadata": {},
   "outputs": [
    {
     "data": {
      "text/plain": [
       "[<matplotlib.lines.Line2D at 0x199aab84948>]"
      ]
     },
     "execution_count": 33,
     "metadata": {},
     "output_type": "execute_result"
    },
    {
     "data": {
      "image/png": "[encoded data removed]",
      "text/plain": [
       "<Figure size 432x288 with 1 Axes>"
      ]
     },
     "metadata": {
      "needs_background": "light"
     },
     "output_type": "display_data"
    }
   ],
   "source": [
    "# Question 10 : \n",
    "\n",
    "# On réutilise la fonction codée en question précédente : \n",
    "\n",
    "X = [k for k in range(1,200)]\n",
    "\n",
    "Y = [long_cable_simul(k) for k in range(1,200)]\n",
    "\n",
    "plt.scatter(X,Y)\n",
    "plt.plot([0,200],[L1,L1], color ='red')"
   ]
  },
  {
   "cell_type": "markdown",
   "metadata": {},
   "source": [
    "On observe en effet une convergence des Mn vers l'espérance conditionnelle estimée de la longueur (en rouge), en cohérence avec la loi faible des grands nombres.\n",
    "\n",
    "On pourrait se permettre de prendre n beaucoup plus grand si on se cantonne à une seule simulaton d'un ensemble de longueurs dont on moyenne les termes petit à petit."
   ]
  },
  {
   "cell_type": "code",
   "execution_count": 71,
   "metadata": {},
   "outputs": [
    {
     "data": {
      "text/plain": [
       "<BarContainer object of 15 artists>"
      ]
     },
     "execution_count": 71,
     "metadata": {},
     "output_type": "execute_result"
    },
    {
     "data": {
      "image/png": "[encoded data removed]",
      "text/plain": [
       "<Figure size 432x288 with 1 Axes>"
      ]
     },
     "metadata": {
      "needs_background": "light"
     },
     "output_type": "display_data"
    }
   ],
   "source": [
    "# Question 11 : \n",
    "\n",
    "def hist(X):\n",
    "    X_floored = np.round(X,0)\n",
    "    valeurs = []\n",
    "    occus = []\n",
    "    for x in X_floored :\n",
    "        if x not in valeurs :\n",
    "            valeurs.append(x)\n",
    "            occus.append(1)\n",
    "        else :\n",
    "            index = valeurs.index(x)\n",
    "            occus[index]+=1\n",
    "    return (np.array(valeurs),occus)\n",
    "\n",
    "n = 100 \n",
    "\n",
    "histo1 = nsimuls(100)\n",
    "\n",
    "plt.bar(hist(histo1)[0],hist(histo1)[1])"
   ]
  },
  {
   "cell_type": "code",
   "execution_count": null,
   "metadata": {},
   "outputs": [],
   "source": [
    "# Question 12 :"
   ]
  },
  {
   "cell_type": "markdown",
   "metadata": {},
   "source": [
    "### Méthode 1 :"
   ]
  },
  {
   "cell_type": "code",
   "execution_count": 108,
   "metadata": {},
   "outputs": [
    {
     "name": "stdout",
     "output_type": "stream",
     "text": [
      "Première méthode : (516.4409808467885, 528.1150556898274)\n"
     ]
    }
   ],
   "source": [
    "conf_int_1 = stats.norm.interval(0.95, loc = np.mean(histo1), scale = np.std(histo1))\n",
    "print(f\"L'intervalle de confiance à 95% est : {conf_int_1}\")"
   ]
  },
  {
   "cell_type": "markdown",
   "metadata": {},
   "source": [
    "### Question 13 : \n",
    "\n",
    "Pour calculer la probabilité que la longueur du câble dépasse 525 mètres, on va approcher cette probabilité par le nombre de cas dans lesquels le câble fait plus de 525 sur le nombre de simulations effectuées."
   ]
  },
  {
   "cell_type": "code",
   "execution_count": 92,
   "metadata": {},
   "outputs": [
    {
     "name": "stdout",
     "output_type": "stream",
     "text": [
      "La probabilité approximées sur 100 simulations que la longueur de câble dépasse 525 mètres vaut approximativement 0.22\n"
     ]
    }
   ],
   "source": [
    "def prob_depass(leslongs):\n",
    "    c = 0\n",
    "    for l in leslongs:\n",
    "        if l > 525:\n",
    "            c+=1\n",
    "    print(f'La probabilité approximée sur {n} simulations que la longueur de câble dépasse 525 mètres vaut approximativement {c/len(leslongs)}')\n",
    "\n",
    "def long_cable_simul(n):\n",
    "    c = 0 \n",
    "    for k in range(n):\n",
    "        unesimul = simuler()\n",
    "        c += long_cable(unesimul, Delta)\n",
    "        \n",
    "A = prob_depass(nsimuls(100))"
   ]
  },
  {
   "cell_type": "code",
   "execution_count": null,
   "metadata": {},
   "outputs": [],
   "source": [
    "# Question 14 :"
   ]
  },
  {
   "cell_type": "code",
   "execution_count": 98,
   "metadata": {},
   "outputs": [],
   "source": [
    "#Pour gagner du temps de calcul ensuite, on code une version simplifée de calcul des Mn : \n",
    "    \n",
    "def Mn_simple(simuls):\n",
    "    X = [k for k in range(1,len(simuls))]\n",
    "    Y = []\n",
    "    for k in range(1,len(simuls)):\n",
    "        c = 0\n",
    "        for j in range(k):\n",
    "            c += simuls[j]\n",
    "        Y.append(c/k)\n",
    "    plt.scatter(X,Y)"
   ]
  },
  {
   "cell_type": "markdown",
   "metadata": {},
   "source": [
    "#### Pour 1000 simulations :"
   ]
  },
  {
   "cell_type": "code",
   "execution_count": 101,
   "metadata": {},
   "outputs": [
    {
     "name": "stdout",
     "output_type": "stream",
     "text": [
      "La probabilité approximées sur 100 simulations que la longueur de câble dépasse 525 mètres vaut approximativement 0.183\n"
     ]
    },
    {
     "data": {
      "image/png": "[encoded data removed]",
      "text/plain": [
       "<Figure size 432x288 with 1 Axes>"
      ]
     },
     "metadata": {
      "needs_background": "light"
     },
     "output_type": "display_data"
    }
   ],
   "source": [
    "histo2 = nsimuls(1000)\n",
    "\n",
    "plt.bar(hist(histo2)[0],hist(histo2)[1])\n",
    "\n",
    "prob_depass(histo2)"
   ]
  },
  {
   "cell_type": "code",
   "execution_count": 102,
   "metadata": {},
   "outputs": [
    {
     "data": {
      "image/png": "[encoded data removed]",
      "text/plain": [
       "<Figure size 432x288 with 1 Axes>"
      ]
     },
     "metadata": {
      "needs_background": "light"
     },
     "output_type": "display_data"
    }
   ],
   "source": [
    "Mn_simple(histo2)"
   ]
  },
  {
   "cell_type": "code",
   "execution_count": null,
   "metadata": {},
   "outputs": [],
   "source": [
    "### Pour 10 000 simulations :"
   ]
  },
  {
   "cell_type": "code",
   "execution_count": 94,
   "metadata": {},
   "outputs": [
    {
     "name": "stdout",
     "output_type": "stream",
     "text": [
      "La probabilité approximées sur 100 simulations que la longueur de câble dépasse 525 mètres vaut approximativement 0.1875\n"
     ]
    },
    {
     "data": {
      "image/png": "[encoded data removed]",
      "text/plain": [
       "<Figure size 432x288 with 1 Axes>"
      ]
     },
     "metadata": {
      "needs_background": "light"
     },
     "output_type": "display_data"
    }
   ],
   "source": [
    "histo3 = nsimuls(10000)\n",
    "\n",
    "plt.bar(hist(histo3)[0],hist(histo3)[1])\n",
    "\n",
    "prob_depass(histo3)"
   ]
  },
  {
   "cell_type": "code",
   "execution_count": 103,
   "metadata": {},
   "outputs": [
    {
     "data": {
      "image/png": "[encoded data removed]",
      "text/plain": [
       "<Figure size 432x288 with 1 Axes>"
      ]
     },
     "metadata": {
      "needs_background": "light"
     },
     "output_type": "display_data"
    }
   ],
   "source": [
    "Mn_simple(histo3)"
   ]
  },
  {
   "cell_type": "code",
   "execution_count": 95,
   "metadata": {},
   "outputs": [
    {
     "ename": "KeyboardInterrupt",
     "evalue": "",
     "output_type": "error",
     "traceback": [
      "\u001b[1;31m---------------------------------------------------------------------------\u001b[0m",
      "\u001b[1;31mKeyboardInterrupt\u001b[0m                         Traceback (most recent call last)",
      "\u001b[1;32m<ipython-input-95-f392d4c3f9de>\u001b[0m in \u001b[0;36m<module>\u001b[1;34m\u001b[0m\n\u001b[1;32m----> 1\u001b[1;33m \u001b[0mhisto4\u001b[0m \u001b[1;33m=\u001b[0m \u001b[0mnsimuls\u001b[0m\u001b[1;33m(\u001b[0m\u001b[1;36m100000\u001b[0m\u001b[1;33m)\u001b[0m\u001b[1;33m\u001b[0m\u001b[1;33m\u001b[0m\u001b[0m\n\u001b[0m\u001b[0;32m      2\u001b[0m \u001b[1;33m\u001b[0m\u001b[0m\n\u001b[0;32m      3\u001b[0m \u001b[0mplt\u001b[0m\u001b[1;33m.\u001b[0m\u001b[0mbar\u001b[0m\u001b[1;33m(\u001b[0m\u001b[0mhist\u001b[0m\u001b[1;33m(\u001b[0m\u001b[0mhisto4\u001b[0m\u001b[1;33m)\u001b[0m\u001b[1;33m[\u001b[0m\u001b[1;36m0\u001b[0m\u001b[1;33m]\u001b[0m\u001b[1;33m,\u001b[0m\u001b[0mhist\u001b[0m\u001b[1;33m(\u001b[0m\u001b[0mhisto4\u001b[0m\u001b[1;33m)\u001b[0m\u001b[1;33m[\u001b[0m\u001b[1;36m1\u001b[0m\u001b[1;33m]\u001b[0m\u001b[1;33m)\u001b[0m\u001b[1;33m\u001b[0m\u001b[1;33m\u001b[0m\u001b[0m\n\u001b[0;32m      4\u001b[0m \u001b[1;33m\u001b[0m\u001b[0m\n\u001b[0;32m      5\u001b[0m \u001b[0mprob_depass\u001b[0m\u001b[1;33m(\u001b[0m\u001b[0mhisto4\u001b[0m\u001b[1;33m)\u001b[0m\u001b[1;33m\u001b[0m\u001b[1;33m\u001b[0m\u001b[0m\n",
      "\u001b[1;32m<ipython-input-42-e3d23bebada7>\u001b[0m in \u001b[0;36mnsimuls\u001b[1;34m(n)\u001b[0m\n\u001b[0;32m      5\u001b[0m     \u001b[0mL\u001b[0m\u001b[1;33m=\u001b[0m \u001b[1;33m[\u001b[0m\u001b[1;33m]\u001b[0m\u001b[1;33m\u001b[0m\u001b[1;33m\u001b[0m\u001b[0m\n\u001b[0;32m      6\u001b[0m     \u001b[1;32mfor\u001b[0m \u001b[0mk\u001b[0m \u001b[1;32min\u001b[0m \u001b[0mrange\u001b[0m\u001b[1;33m(\u001b[0m\u001b[0mn\u001b[0m\u001b[1;33m)\u001b[0m\u001b[1;33m:\u001b[0m\u001b[1;33m\u001b[0m\u001b[1;33m\u001b[0m\u001b[0m\n\u001b[1;32m----> 7\u001b[1;33m         \u001b[0munesimul\u001b[0m \u001b[1;33m=\u001b[0m \u001b[0msimuler\u001b[0m\u001b[1;33m(\u001b[0m\u001b[1;33m)\u001b[0m\u001b[1;33m\u001b[0m\u001b[1;33m\u001b[0m\u001b[0m\n\u001b[0m\u001b[0;32m      8\u001b[0m         \u001b[0mL\u001b[0m\u001b[1;33m.\u001b[0m\u001b[0mappend\u001b[0m\u001b[1;33m(\u001b[0m\u001b[0mlong_cable\u001b[0m\u001b[1;33m(\u001b[0m\u001b[0munesimul\u001b[0m\u001b[1;33m,\u001b[0m\u001b[0mDelta\u001b[0m\u001b[1;33m)\u001b[0m\u001b[1;33m)\u001b[0m\u001b[1;33m\u001b[0m\u001b[1;33m\u001b[0m\u001b[0m\n\u001b[0;32m      9\u001b[0m     \u001b[1;32mreturn\u001b[0m \u001b[0mL\u001b[0m\u001b[1;33m\u001b[0m\u001b[1;33m\u001b[0m\u001b[0m\n",
      "\u001b[1;32m<ipython-input-12-c80ff3993daf>\u001b[0m in \u001b[0;36msimuler\u001b[1;34m()\u001b[0m\n\u001b[0;32m      4\u001b[0m \u001b[1;33m\u001b[0m\u001b[0m\n\u001b[0;32m      5\u001b[0m \u001b[1;32mdef\u001b[0m \u001b[0msimuler\u001b[0m\u001b[1;33m(\u001b[0m\u001b[1;33m)\u001b[0m\u001b[1;33m:\u001b[0m\u001b[1;33m\u001b[0m\u001b[1;33m\u001b[0m\u001b[0m\n\u001b[1;32m----> 6\u001b[1;33m     \u001b[0msimul_cond\u001b[0m \u001b[1;33m=\u001b[0m \u001b[0mE_conditionnelle\u001b[0m \u001b[1;33m+\u001b[0m \u001b[0mR\u001b[0m\u001b[1;33m.\u001b[0m\u001b[0mdot\u001b[0m\u001b[1;33m(\u001b[0m\u001b[0mVect_G\u001b[0m\u001b[1;33m(\u001b[0m\u001b[1;33m)\u001b[0m\u001b[1;33m)\u001b[0m\u001b[1;33m\u001b[0m\u001b[1;33m\u001b[0m\u001b[0m\n\u001b[0m\u001b[0;32m      7\u001b[0m     \u001b[0msimul_finale\u001b[0m \u001b[1;33m=\u001b[0m \u001b[0mnp\u001b[0m\u001b[1;33m.\u001b[0m\u001b[0mzeros\u001b[0m\u001b[1;33m(\u001b[0m\u001b[0mN\u001b[0m\u001b[1;33m)\u001b[0m\u001b[1;33m\u001b[0m\u001b[1;33m\u001b[0m\u001b[0m\n\u001b[0;32m      8\u001b[0m     \u001b[0mc1\u001b[0m\u001b[1;33m,\u001b[0m \u001b[0mc2\u001b[0m \u001b[1;33m=\u001b[0m \u001b[1;36m0\u001b[0m\u001b[1;33m,\u001b[0m \u001b[1;36m0\u001b[0m\u001b[1;33m\u001b[0m\u001b[1;33m\u001b[0m\u001b[0m\n",
      "\u001b[1;32m<ipython-input-10-95d2de16f2e3>\u001b[0m in \u001b[0;36mVect_G\u001b[1;34m()\u001b[0m\n\u001b[0;32m     11\u001b[0m     \u001b[0mG\u001b[0m \u001b[1;33m=\u001b[0m \u001b[0mnp\u001b[0m\u001b[1;33m.\u001b[0m\u001b[0mzeros\u001b[0m\u001b[1;33m(\u001b[0m\u001b[0mlen\u001b[0m\u001b[1;33m(\u001b[0m\u001b[0munknown_indexes\u001b[0m\u001b[1;33m)\u001b[0m\u001b[1;33m)\u001b[0m\u001b[1;33m\u001b[0m\u001b[1;33m\u001b[0m\u001b[0m\n\u001b[0;32m     12\u001b[0m     \u001b[1;32mfor\u001b[0m \u001b[0mi\u001b[0m \u001b[1;32min\u001b[0m \u001b[0mrange\u001b[0m\u001b[1;33m(\u001b[0m\u001b[0mlen\u001b[0m\u001b[1;33m(\u001b[0m\u001b[0mG\u001b[0m\u001b[1;33m)\u001b[0m\u001b[1;33m)\u001b[0m\u001b[1;33m:\u001b[0m\u001b[1;33m\u001b[0m\u001b[1;33m\u001b[0m\u001b[0m\n\u001b[1;32m---> 13\u001b[1;33m         \u001b[0mG\u001b[0m\u001b[1;33m[\u001b[0m\u001b[0mi\u001b[0m\u001b[1;33m]\u001b[0m \u001b[1;33m=\u001b[0m \u001b[0mBox_Muller\u001b[0m\u001b[1;33m(\u001b[0m\u001b[1;33m)\u001b[0m\u001b[1;33m\u001b[0m\u001b[1;33m\u001b[0m\u001b[0m\n\u001b[0m\u001b[0;32m     14\u001b[0m     \u001b[1;32mreturn\u001b[0m \u001b[0mG\u001b[0m\u001b[1;33m\u001b[0m\u001b[1;33m\u001b[0m\u001b[0m\n",
      "\u001b[1;32m<ipython-input-10-95d2de16f2e3>\u001b[0m in \u001b[0;36mBox_Muller\u001b[1;34m()\u001b[0m\n\u001b[0;32m      5\u001b[0m \u001b[1;32mdef\u001b[0m \u001b[0mBox_Muller\u001b[0m\u001b[1;33m(\u001b[0m\u001b[1;33m)\u001b[0m\u001b[1;33m:\u001b[0m\u001b[1;33m\u001b[0m\u001b[1;33m\u001b[0m\u001b[0m\n\u001b[0;32m      6\u001b[0m     \u001b[0mU\u001b[0m \u001b[1;33m=\u001b[0m \u001b[0mnp\u001b[0m\u001b[1;33m.\u001b[0m\u001b[0mrandom\u001b[0m\u001b[1;33m.\u001b[0m\u001b[0muniform\u001b[0m\u001b[1;33m(\u001b[0m\u001b[1;33m)\u001b[0m\u001b[1;33m\u001b[0m\u001b[1;33m\u001b[0m\u001b[0m\n\u001b[1;32m----> 7\u001b[1;33m     \u001b[0mV\u001b[0m \u001b[1;33m=\u001b[0m \u001b[0mnp\u001b[0m\u001b[1;33m.\u001b[0m\u001b[0mrandom\u001b[0m\u001b[1;33m.\u001b[0m\u001b[0muniform\u001b[0m\u001b[1;33m(\u001b[0m\u001b[1;33m)\u001b[0m\u001b[1;33m\u001b[0m\u001b[1;33m\u001b[0m\u001b[0m\n\u001b[0m\u001b[0;32m      8\u001b[0m     \u001b[1;32mreturn\u001b[0m \u001b[0mnp\u001b[0m\u001b[1;33m.\u001b[0m\u001b[0msqrt\u001b[0m\u001b[1;33m(\u001b[0m\u001b[1;33m-\u001b[0m\u001b[1;36m2\u001b[0m\u001b[1;33m*\u001b[0m\u001b[0mnp\u001b[0m\u001b[1;33m.\u001b[0m\u001b[0mlog\u001b[0m\u001b[1;33m(\u001b[0m\u001b[0mU\u001b[0m\u001b[1;33m)\u001b[0m\u001b[1;33m)\u001b[0m\u001b[1;33m*\u001b[0m\u001b[0mnp\u001b[0m\u001b[1;33m.\u001b[0m\u001b[0mcos\u001b[0m\u001b[1;33m(\u001b[0m\u001b[1;36m2\u001b[0m\u001b[1;33m*\u001b[0m\u001b[0mnp\u001b[0m\u001b[1;33m.\u001b[0m\u001b[0mpi\u001b[0m\u001b[1;33m*\u001b[0m\u001b[0mV\u001b[0m\u001b[1;33m)\u001b[0m\u001b[1;33m\u001b[0m\u001b[1;33m\u001b[0m\u001b[0m\n\u001b[0;32m      9\u001b[0m \u001b[1;33m\u001b[0m\u001b[0m\n",
      "\u001b[1;31mKeyboardInterrupt\u001b[0m: "
     ]
    }
   ],
   "source": [
    "histo4 = nsimuls(100000)\n",
    "\n",
    "plt.bar(hist(histo4)[0],hist(histo4)[1])\n",
    "\n",
    "prob_depass(histo4)"
   ]
  },
  {
   "cell_type": "code",
   "execution_count": null,
   "metadata": {},
   "outputs": [],
   "source": [
    "Mn_simple(histo4)"
   ]
  },
  {
   "cell_type": "markdown",
   "metadata": {},
   "source": [
    "Plus le nombre de simulations augmente, meilleure est la convergence de Mn vers l'espérance conditionnelle estimée de la longueur et plus l'histogramme des longueurs ressemble à celui d'une variable aléatoire suivant une loi gaussienne."
   ]
  }
 ],
 "metadata": {
  "@webio": {
   "lastCommId": "5ceb69a5bbd14071b254c2439a58ac4b",
   "lastKernelId": "0e923419-c540-42c1-ab5f-d0e05ff4521c"
  },
  "kernelspec": {
   "display_name": "Python 3",
   "language": "python",
   "name": "python3"
  },
  "language_info": {
   "codemirror_mode": {
    "name": "ipython",
    "version": 3
   },
   "file_extension": ".py",
   "mimetype": "text/x-python",
   "name": "python",
   "nbconvert_exporter": "python",
   "pygments_lexer": "ipython3",
   "version": "3.7.4"
  }
 },
 "nbformat": 4,
 "nbformat_minor": 2
}
